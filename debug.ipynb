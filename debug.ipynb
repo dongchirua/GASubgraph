{
 "cells": [
  {
   "cell_type": "code",
   "execution_count": 1,
   "metadata": {
    "pycharm": {
     "name": "#%%\n"
    }
   },
   "outputs": [],
   "source": [
    "import random\n",
    "import math\n",
    "import os\n",
    "from argparse import ArgumentParser, Namespace\n",
    "from collections import Counter\n",
    "from dataclasses import dataclass\n",
    "from functools import partial\n",
    "from pathlib import Path\n",
    "from typing import Any, Dict, List, Optional, Set, Tuple, Union, Callable\n",
    "from typing_extensions import Literal\n",
    "\n",
    "import ipywidgets as widgets\n",
    "import matplotlib.pyplot as plt\n",
    "import networkx as nx\n",
    "import networkx.algorithms.isomorphism as iso\n",
    "import numpy as np\n",
    "import torch\n",
    "import torch.nn as nn\n",
    "import torch.nn.functional as F\n",
    "from easydict import EasyDict as edict\n",
    "from ipywidgets import interact\n",
    "from sklearn.linear_model import LogisticRegression\n",
    "from sklearn.model_selection import train_test_split\n",
    "from sklearn.metrics import accuracy_score, roc_auc_score\n",
    "from torch import FloatTensor, LongTensor, Tensor\n",
    "from torch_geometric.data import Batch, Data, InMemoryDataset\n",
    "from torch_geometric.datasets import TUDataset\n",
    "from torch_geometric.loader import DataLoader\n",
    "from torch_geometric.nn import GCNConv, GINConv, GNNExplainer, global_max_pool\n",
    "from torch_geometric.nn.conv import MessagePassing\n",
    "from torch_geometric.nn.models import GIN\n",
    "from torch_geometric.utils import k_hop_subgraph, remove_self_loops, to_networkx\n",
    "from tqdm.notebook import trange, tqdm"
   ]
  },
  {
   "cell_type": "markdown",
   "metadata": {
    "pycharm": {
     "name": "#%% md\n"
    }
   },
   "source": [
    "run GA with dummy classification but on realdata"
   ]
  },
  {
   "cell_type": "code",
   "execution_count": 2,
   "metadata": {
    "pycharm": {
     "name": "#%%\n"
    }
   },
   "outputs": [],
   "source": [
    "@dataclass\n",
    "class Args:\n",
    "    \"\"\"A class containing arguments used for setting up the dataset and model.\"\"\"\n",
    "    batch_size: int = 32  # Batch size for the training loop.\n",
    "    num_workers: int = 2  # Number of workers to use for the data loader.\n",
    "    learning_rate: float = 0.001  # Learning rate.\n",
    "    weight_decay: float = 5e-4  # Weight decay.\n",
    "    num_epochs: int = 300  # Number of training epochs.\n",
    "    num_layers: int = 3  # Number of message passing layers in the GNN model.\n",
    "    hidden_features: int = 32  # Dimensionality of the hidden layers in the GNN.\n",
    "    dropout: float = 0.2  # Dropout probability.\n",
    "    seed: int = 27  # Random seed.\n",
    "    pre_train: bool = True  # Change to False if want to retrain\n",
    "    CXPB = 0.5\n",
    "    MUTPB =  0.3\n",
    "\n",
    "args = Args()"
   ]
  },
  {
   "cell_type": "code",
   "execution_count": 3,
   "metadata": {
    "pycharm": {
     "name": "#%%\n"
    }
   },
   "outputs": [],
   "source": [
    "rng = np.random.default_rng(args.seed)\n",
    "torch.manual_seed(args.seed)\n",
    "np.random.seed(args.seed)\n",
    "random.seed(args.seed)"
   ]
  },
  {
   "cell_type": "code",
   "execution_count": 4,
   "metadata": {
    "pycharm": {
     "name": "#%%\n"
    }
   },
   "outputs": [
    {
     "name": "stdout",
     "output_type": "stream",
     "text": [
      "over_write: False\n"
     ]
    },
    {
     "data": {
      "application/vnd.jupyter.widget-view+json": {
       "model_id": "df9251328f464cd880d1a2c27d046fd6",
       "version_major": 2,
       "version_minor": 0
      },
      "text/plain": [
       "0it [00:00, ?it/s]"
      ]
     },
     "metadata": {},
     "output_type": "display_data"
    },
    {
     "data": {
      "application/vnd.jupyter.widget-view+json": {
       "model_id": "d46b71ca0e164ba99ddc7751df3065f1",
       "version_major": 2,
       "version_minor": 0
      },
      "text/plain": [
       "0it [00:00, ?it/s]"
      ]
     },
     "metadata": {},
     "output_type": "display_data"
    }
   ],
   "source": [
    "from vulexp.data_models.pl_data_module import DataModule\n",
    "from vulexp.data_models.reveal_data import Reveal\n",
    "\n",
    "data_dir = 'data/reveal/'\n",
    "reveal_dataset = Reveal(data_dir, to_undirected=True, seed=args.seed)\n",
    "\n",
    "\n",
    "reveal_train, reveal_val, reveal_test = reveal_dataset.generate_train_test()\n",
    "\n",
    "reveal_train_loader = DataLoader(\n",
    "    dataset=reveal_train,\n",
    "    batch_size=args.batch_size,\n",
    "    num_workers=args.num_workers,\n",
    "    shuffle=True\n",
    ")\n",
    "reveal_valid_loader = DataLoader(\n",
    "    dataset=reveal_val,\n",
    "    batch_size=args.batch_size,\n",
    "    num_workers=args.num_workers,\n",
    "    shuffle=False\n",
    "    )\n",
    "reveal_test_loader = DataLoader(\n",
    "    dataset=reveal_test,\n",
    "    batch_size=args.batch_size,\n",
    "    num_workers=args.num_workers,\n",
    "    shuffle=False\n",
    ")"
   ]
  },
  {
   "cell_type": "code",
   "execution_count": 5,
   "metadata": {
    "pycharm": {
     "name": "#%%\n"
    }
   },
   "outputs": [],
   "source": [
    "device = torch.device('cuda' if torch.cuda.is_available() else 'cpu')"
   ]
  },
  {
   "cell_type": "code",
   "execution_count": 6,
   "metadata": {
    "pycharm": {
     "name": "#%%\n"
    }
   },
   "outputs": [
    {
     "data": {
      "text/plain": [
       "TrainingModule(\n",
       "  (model): GIN(\n",
       "    (convs): ModuleList(\n",
       "      (0): GINConv(nn=Sequential(\n",
       "        (0): Linear(in_features=64, out_features=64, bias=True)\n",
       "        (1): ReLU()\n",
       "        (2): Linear(in_features=64, out_features=64, bias=True)\n",
       "        (3): ReLU()\n",
       "      ))\n",
       "      (1): GINConv(nn=Sequential(\n",
       "        (0): Linear(in_features=64, out_features=64, bias=True)\n",
       "        (1): ReLU()\n",
       "        (2): Linear(in_features=64, out_features=64, bias=True)\n",
       "        (3): ReLU()\n",
       "      ))\n",
       "    )\n",
       "    (classifier): Sequential(\n",
       "      (0): Linear(in_features=64, out_features=64, bias=True)\n",
       "      (1): ReLU()\n",
       "      (2): Dropout(p=0.8, inplace=False)\n",
       "      (3): Linear(in_features=64, out_features=1, bias=True)\n",
       "    )\n",
       "  )\n",
       ")"
      ]
     },
     "execution_count": 6,
     "metadata": {},
     "output_type": "execute_result"
    }
   ],
   "source": [
    "from vulexp.ml_models.pl_train_module_logit import TrainingModule\n",
    "from vulexp.ml_models.gin import GIN\n",
    "\n",
    "saved_model = TrainingModule.load_from_checkpoint(model=GIN, map_location=device,\n",
    "                                                  checkpoint_path=\"weights/Reveal-GIN-auc_pos=0.78-optimal_t=0.560-f1=0.34-epoch=04.ckpt\")\n",
    "saved_model.to(device)\n",
    "saved_model.eval()"
   ]
  },
  {
   "cell_type": "code",
   "execution_count": 7,
   "metadata": {
    "pycharm": {
     "name": "#%%\n"
    }
   },
   "outputs": [],
   "source": [
    "sel = 10\n",
    "foo_sample = reveal_test.get(sel)"
   ]
  },
  {
   "cell_type": "code",
   "execution_count": 8,
   "metadata": {
    "pycharm": {
     "name": "#%%\n"
    }
   },
   "outputs": [
    {
     "name": "stdout",
     "output_type": "stream",
     "text": [
      "0.7664648294448853\n"
     ]
    }
   ],
   "source": [
    "output = saved_model(foo_sample.x.to(device), foo_sample.edge_index.to(device), None)\n",
    "pred = torch.sigmoid(output).item()\n",
    "print(pred)"
   ]
  },
  {
   "cell_type": "code",
   "execution_count": 9,
   "metadata": {},
   "outputs": [],
   "source": [
    "from ga_subgraph.explainer import GASubX\n",
    "from ga_subgraph.fitness import classifier\n",
    "from ga_subgraph.individual import Individual\n",
    "\n",
    "ga_explainer = GASubX(saved_model, classifier, device, Individual, 100, args.CXPB, args.MUTPB)"
   ]
  },
  {
   "cell_type": "code",
   "execution_count": 10,
   "metadata": {},
   "outputs": [
    {
     "data": {
      "text/plain": [
       "[0, 4, 7, 10, 19, 25, 31, 35]"
      ]
     },
     "execution_count": 10,
     "metadata": {},
     "output_type": "execute_result"
    }
   ],
   "source": [
    "ga_subgraph, _ = ga_explainer.explain(foo_sample, 5, verbose=False)\n",
    "ga_subgraph\n"
   ]
  },
  {
   "cell_type": "code",
   "execution_count": 11,
   "metadata": {
    "pycharm": {
     "name": "#%%\n"
    }
   },
   "outputs": [
    {
     "data": {
      "application/vnd.jupyter.widget-view+json": {
       "model_id": "3633bc4123494e69a66a564b2525b22c",
       "version_major": 2,
       "version_minor": 0
      },
      "text/plain": [
       "  0%|          | 0/20 [00:00<?, ?it/s]"
      ]
     },
     "metadata": {},
     "output_type": "display_data"
    },
    {
     "data": {
      "text/plain": [
       "(19, 33, 34, 38, 40)"
      ]
     },
     "execution_count": 11,
     "metadata": {},
     "output_type": "execute_result"
    }
   ],
   "source": [
    "from vulexp.explanation.subgraphx import SubgraphX\n",
    "\n",
    "reveal_subgraphx = SubgraphX(model=saved_model, min_nodes=5)\n",
    "subgraph = reveal_subgraphx.explain(x=foo_sample.x.to(device), edge_index=foo_sample.edge_index.to(device), max_nodes=5)\n",
    "\n",
    "subgraph.coalition"
   ]
  },
  {
   "cell_type": "code",
   "execution_count": 12,
   "metadata": {
    "pycharm": {
     "name": "#%%\n"
    }
   },
   "outputs": [],
   "source": [
    "ga_mask = torch.zeros(foo_sample.num_nodes).type(torch.float32).to(foo_sample.x.device)\n",
    "ga_mask[ga_subgraph] = 1\n"
   ]
  },
  {
   "cell_type": "code",
   "execution_count": 13,
   "metadata": {
    "pycharm": {
     "name": "#%%\n"
    }
   },
   "outputs": [],
   "source": [
    "sub_mask = torch.zeros(foo_sample.num_nodes).type(torch.float32).to(foo_sample.x.device)\n",
    "sub_mask[list(subgraph.coalition)] = 1 "
   ]
  },
  {
   "cell_type": "code",
   "execution_count": 14,
   "metadata": {},
   "outputs": [],
   "source": [
    "from ga_subgraph.fitness import graph_build_split"
   ]
  },
  {
   "cell_type": "code",
   "execution_count": 15,
   "metadata": {
    "pycharm": {
     "name": "#%%\n"
    }
   },
   "outputs": [],
   "source": [
    "ga_result = graph_build_split(foo_sample.x, foo_sample.edge_index, ga_mask)\n",
    "sub_result = graph_build_split(foo_sample.x, foo_sample.edge_index, sub_mask)"
   ]
  },
  {
   "cell_type": "code",
   "execution_count": 16,
   "metadata": {
    "pycharm": {
     "name": "#%%\n"
    }
   },
   "outputs": [
    {
     "name": "stdout",
     "output_type": "stream",
     "text": [
      "0.5069252848625183\n"
     ]
    }
   ],
   "source": [
    "output = saved_model(ga_result[0].to(device), ga_result[1].to(device), None)\n",
    "pred = torch.sigmoid(output).item()\n",
    "print(pred)"
   ]
  },
  {
   "cell_type": "code",
   "execution_count": 17,
   "metadata": {
    "pycharm": {
     "name": "#%%\n"
    }
   },
   "outputs": [
    {
     "name": "stdout",
     "output_type": "stream",
     "text": [
      "0.5770772099494934\n"
     ]
    }
   ],
   "source": [
    "output = saved_model(sub_result[0].to(device), sub_result[1].to(device), None)\n",
    "pred = torch.sigmoid(output).item()\n",
    "print(pred)"
   ]
  },
  {
   "cell_type": "code",
   "execution_count": null,
   "metadata": {},
   "outputs": [],
   "source": []
  }
 ],
 "metadata": {
  "kernelspec": {
   "display_name": "Python 3.9.12 ('ga_subgraph')",
   "language": "python",
   "name": "python3"
  },
  "language_info": {
   "codemirror_mode": {
    "name": "ipython",
    "version": 3
   },
   "file_extension": ".py",
   "mimetype": "text/x-python",
   "name": "python",
   "nbconvert_exporter": "python",
   "pygments_lexer": "ipython3",
   "version": "3.9.12"
  },
  "orig_nbformat": 4,
  "vscode": {
   "interpreter": {
    "hash": "ffcbbd9b6f323d2d2a0d60c1ee37af36d4102b89e9c5f16911bd71b97bdbbb2d"
   }
  }
 },
 "nbformat": 4,
 "nbformat_minor": 2
}
