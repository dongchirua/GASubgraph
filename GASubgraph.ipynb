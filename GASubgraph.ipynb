{
 "cells": [
  {
   "cell_type": "code",
   "execution_count": 1,
   "metadata": {
    "pycharm": {
     "name": "#%%\n"
    }
   },
   "outputs": [],
   "source": [
    "import random\n",
    "import math\n",
    "import os\n",
    "from argparse import ArgumentParser, Namespace\n",
    "from collections import Counter\n",
    "from dataclasses import dataclass\n",
    "from functools import partial\n",
    "from pathlib import Path\n",
    "from typing import Any, Dict, List, Optional, Set, Tuple, Union, Callable\n",
    "from typing_extensions import Literal\n",
    "\n",
    "import ipywidgets as widgets\n",
    "import matplotlib.pyplot as plt\n",
    "import networkx as nx\n",
    "import networkx.algorithms.isomorphism as iso\n",
    "import numpy as np\n",
    "import torch\n",
    "import torch.nn as nn\n",
    "import torch.nn.functional as F\n",
    "from easydict import EasyDict as edict\n",
    "from ipywidgets import interact\n",
    "from sklearn.linear_model import LogisticRegression\n",
    "from sklearn.model_selection import train_test_split\n",
    "from sklearn.metrics import accuracy_score, roc_auc_score\n",
    "from torch import FloatTensor, LongTensor, Tensor\n",
    "from torch_geometric.data import Batch, Data, InMemoryDataset\n",
    "from torch_geometric.datasets import TUDataset\n",
    "from torch_geometric.loader import DataLoader\n",
    "from torch_geometric.nn import GCNConv, GINConv, GNNExplainer, global_max_pool\n",
    "from torch_geometric.nn.conv import MessagePassing\n",
    "from torch_geometric.nn.models import GIN\n",
    "from torch_geometric.utils import k_hop_subgraph, remove_self_loops, to_networkx\n",
    "from tqdm.notebook import trange, tqdm"
   ]
  },
  {
   "cell_type": "markdown",
   "metadata": {
    "pycharm": {
     "name": "#%% md\n"
    }
   },
   "source": [
    "## configs"
   ]
  },
  {
   "cell_type": "code",
   "execution_count": 2,
   "metadata": {
    "pycharm": {
     "name": "#%%\n"
    }
   },
   "outputs": [],
   "source": [
    "@dataclass\n",
    "class Args:\n",
    "    \"\"\"A class containing arguments used for setting up the dataset and model.\"\"\"\n",
    "    batch_size: int = 32  # Batch size for the training loop.\n",
    "    num_workers: int = 2  # Number of workers to use for the data loader.\n",
    "    learning_rate: float = 0.001  # Learning rate.\n",
    "    weight_decay: float = 5e-4  # Weight decay.\n",
    "    num_epochs: int = 300  # Number of training epochs.\n",
    "    num_layers: int = 3  # Number of message passing layers in the GNN model.\n",
    "    hidden_features: int = 32  # Dimensionality of the hidden layers in the GNN.\n",
    "    dropout: float = 0.2  # Dropout probability.\n",
    "    seed: int = 27  # Random seed.\n",
    "    pre_train: bool = True  # Change to False if want to retrain\n",
    "\n",
    "args = Args()"
   ]
  },
  {
   "cell_type": "code",
   "execution_count": 3,
   "metadata": {
    "pycharm": {
     "name": "#%%\n"
    }
   },
   "outputs": [],
   "source": [
    "rng = np.random.default_rng(args.seed)\n",
    "torch.manual_seed(args.seed)\n",
    "np.random.seed(args.seed)\n",
    "random.seed(args.seed)"
   ]
  },
  {
   "cell_type": "markdown",
   "metadata": {
    "pycharm": {
     "name": "#%% md\n"
    }
   },
   "source": [
    "# Dataset Loading"
   ]
  },
  {
   "cell_type": "code",
   "execution_count": 4,
   "metadata": {
    "pycharm": {
     "name": "#%%\n"
    }
   },
   "outputs": [],
   "source": [
    "# Load MUTAG dataset (graph classification)\n",
    "mutag_dataset = edict()\n",
    "mutag_dataset.ds = TUDataset(\n",
    "    'data/mutag/',\n",
    "    name='MUTAG',\n",
    "    use_node_attr=True,\n",
    "    use_edge_attr=True\n",
    ")\n",
    "mutag_dataset.ds.shuffle()\n",
    "mutag_size = len(mutag_dataset.ds)\n",
    "mutag_dataset.train_ds = mutag_dataset.ds[:int(0.8 * mutag_size)]\n",
    "mutag_dataset.valid_ds = mutag_dataset.ds[int(0.8 * mutag_size) : int(0.9 * mutag_size)]\n",
    "mutag_dataset.test_ds = mutag_dataset.ds[int(0.9 * mutag_size):]\n",
    "\n",
    "# Since MUTAG has multiple graphs, we use DataLoaders to load the graphs\n",
    "mutag_train_loader = DataLoader(\n",
    "    dataset=mutag_dataset.train_ds,\n",
    "    batch_size=args.batch_size,\n",
    "    num_workers=args.num_workers,\n",
    "    shuffle=True\n",
    ")\n",
    "mutag_valid_loader = DataLoader(\n",
    "    dataset=mutag_dataset.valid_ds,\n",
    "    batch_size=args.batch_size,\n",
    "    num_workers=args.num_workers,\n",
    "    shuffle=False\n",
    "    )\n",
    "mutag_test_loader = DataLoader(\n",
    "    dataset=mutag_dataset.test_ds,\n",
    "    batch_size=args.batch_size,\n",
    "    num_workers=args.num_workers,\n",
    "    shuffle=False\n",
    ")"
   ]
  },
  {
   "cell_type": "markdown",
   "metadata": {
    "pycharm": {
     "name": "#%% md\n"
    }
   },
   "source": [
    "# Simple GNN Model"
   ]
  },
  {
   "cell_type": "code",
   "execution_count": 5,
   "metadata": {
    "pycharm": {
     "name": "#%%\n"
    }
   },
   "outputs": [],
   "source": [
    "class GIN_SubgraphX(torch.nn.Module):\n",
    "    \"\"\"The GIN model from the SubgraphX paper.\n",
    "\n",
    "    Adapted from https://github.com/divelab/DIG/blob/dig/dig/xgraph/models/models.py\n",
    "    \"\"\"\n",
    "    def __init__(self, \n",
    "                in_channels: int, \n",
    "                hidden_channels: int, \n",
    "                num_layers: int, \n",
    "                out_channels: int, \n",
    "                dropout: float = 0.5):\n",
    "        super(GIN_SubgraphX, self).__init__()\n",
    "\n",
    "        self.dropout = dropout\n",
    "\n",
    "        convs_list = [\n",
    "            GINConv(nn.Sequential(\n",
    "                nn.Linear(in_channels, hidden_channels),\n",
    "                nn.ReLU(),\n",
    "                nn.Linear(hidden_channels, hidden_channels),\n",
    "                nn.ReLU())\n",
    "            )\n",
    "        ]\n",
    "        convs_list += [\n",
    "            GINConv(nn.Sequential(\n",
    "                nn.Linear(hidden_channels, hidden_channels),\n",
    "                nn.ReLU(),\n",
    "                nn.Linear(hidden_channels, hidden_channels),\n",
    "                nn.ReLU())\n",
    "            )\n",
    "            for _ in range(num_layers - 1)\n",
    "        ]\n",
    "\n",
    "        self.convs = nn.ModuleList(convs_list)\n",
    "\n",
    "        self.classifier = nn.Sequential(\n",
    "            nn.Linear(hidden_channels, hidden_channels), \n",
    "            nn.ReLU(), \n",
    "            nn.Dropout(self.dropout), \n",
    "            nn.Linear(hidden_channels, out_channels)\n",
    "        )\n",
    "\n",
    "    def forward(self, \n",
    "                x: LongTensor, \n",
    "                edge_index: LongTensor, \n",
    "                batch: LongTensor) -> FloatTensor:\n",
    "        for i in range(len(self.convs)):\n",
    "            x = self.convs[i](x, edge_index)\n",
    "\n",
    "        x = global_max_pool(x, batch)\n",
    "\n",
    "        x = self.classifier(x)\n",
    "\n",
    "        return x"
   ]
  },
  {
   "cell_type": "code",
   "execution_count": 6,
   "metadata": {
    "pycharm": {
     "name": "#%%\n"
    }
   },
   "outputs": [
    {
     "name": "stdout",
     "output_type": "stream",
     "text": [
      "cuda\n"
     ]
    }
   ],
   "source": [
    "# Set the device\n",
    "device = torch.device('cuda' if torch.cuda.is_available() else 'cpu')\n",
    "print(device)"
   ]
  },
  {
   "cell_type": "code",
   "execution_count": 7,
   "metadata": {
    "pycharm": {
     "name": "#%%\n"
    }
   },
   "outputs": [
    {
     "name": "stdout",
     "output_type": "stream",
     "text": [
      "MUTAG model\n",
      "GIN_SubgraphX(\n",
      "  (convs): ModuleList(\n",
      "    (0): GINConv(nn=Sequential(\n",
      "      (0): Linear(in_features=7, out_features=32, bias=True)\n",
      "      (1): ReLU()\n",
      "      (2): Linear(in_features=32, out_features=32, bias=True)\n",
      "      (3): ReLU()\n",
      "    ))\n",
      "    (1): GINConv(nn=Sequential(\n",
      "      (0): Linear(in_features=32, out_features=32, bias=True)\n",
      "      (1): ReLU()\n",
      "      (2): Linear(in_features=32, out_features=32, bias=True)\n",
      "      (3): ReLU()\n",
      "    ))\n",
      "    (2): GINConv(nn=Sequential(\n",
      "      (0): Linear(in_features=32, out_features=32, bias=True)\n",
      "      (1): ReLU()\n",
      "      (2): Linear(in_features=32, out_features=32, bias=True)\n",
      "      (3): ReLU()\n",
      "    ))\n",
      "  )\n",
      "  (classifier): Sequential(\n",
      "    (0): Linear(in_features=32, out_features=32, bias=True)\n",
      "    (1): ReLU()\n",
      "    (2): Dropout(p=0.2, inplace=False)\n",
      "    (3): Linear(in_features=32, out_features=1, bias=True)\n",
      "  )\n",
      ")\n"
     ]
    }
   ],
   "source": [
    "# Load MUTAG GIN model and optimizer\n",
    "mutag_model = GIN_SubgraphX(\n",
    "    in_channels=mutag_dataset.ds.num_features,\n",
    "    hidden_channels=args.hidden_features,\n",
    "    num_layers=args.num_layers,\n",
    "    out_channels=1,\n",
    "    dropout=args.dropout\n",
    ").to(device)\n",
    "\n",
    "print('MUTAG model')\n",
    "print(mutag_model)\n",
    "\n",
    "mutag_optimizer = torch.optim.Adam(\n",
    "    mutag_model.parameters(),\n",
    "    lr=args.learning_rate, \n",
    "    weight_decay=args.weight_decay\n",
    ")"
   ]
  },
  {
   "cell_type": "markdown",
   "metadata": {
    "pycharm": {
     "name": "#%% md\n"
    }
   },
   "source": [
    "## training"
   ]
  },
  {
   "cell_type": "code",
   "execution_count": 8,
   "metadata": {
    "pycharm": {
     "name": "#%%\n"
    }
   },
   "outputs": [],
   "source": [
    "class AverageMeter(object):\n",
    "    \"\"\"The AverageMeter keeps track of an average value over multiple updates.\"\"\"\n",
    "    def __init__(self) -> None:\n",
    "        self.reset()\n",
    "\n",
    "    def reset(self) -> None:\n",
    "        \"\"\"Resets the meter.\"\"\"\n",
    "        self.val = 0\n",
    "        self.avg = 0\n",
    "        self.sum = 0\n",
    "        self.count = 0\n",
    "\n",
    "    def update(self, val: float, n: int = 1) -> None:\n",
    "        \"\"\"Updates the meter with a value and a count.\n",
    "\n",
    "        :param val: The value to add to the running sum.\n",
    "        :param n: The count, i.e., the number of items included in val.\n",
    "        \"\"\"\n",
    "        self.val = val\n",
    "        self.sum += val * n\n",
    "        self.count += n\n",
    "        self.avg = self.sum / self.count"
   ]
  },
  {
   "cell_type": "code",
   "execution_count": 9,
   "metadata": {
    "pycharm": {
     "name": "#%%\n"
    }
   },
   "outputs": [],
   "source": [
    "def run_epoch_graph_cls(loader: DataLoader,\n",
    "                        model: nn.Module,\n",
    "                        optimizer: torch.optim.Adam,\n",
    "                        device: torch.device,\n",
    "                        mode: Literal['train', 'valid', 'test'] = False) -> None:\n",
    "    \"\"\"Runs an epoch (train or eval) of a graph classification model/dataset.\"\"\"\n",
    "    epoch_loss = AverageMeter()\n",
    "    epoch_acc = AverageMeter()\n",
    "\n",
    "    if mode == 'train':\n",
    "        model.train()\n",
    "    else:\n",
    "        model.eval()\n",
    "\n",
    "    preds, targets = [], []\n",
    "\n",
    "    for batch in loader:\n",
    "        batch = batch.to(device)\n",
    "\n",
    "        if mode == 'train':\n",
    "            optimizer.zero_grad()\n",
    "\n",
    "        out = model(batch.x.float(), batch.edge_index, batch.batch)\n",
    "\n",
    "        pred = out.squeeze()\n",
    "        target = batch.y.float().squeeze()\n",
    "\n",
    "        preds.append(pred.detach().cpu().numpy())\n",
    "        targets.append(target.detach().cpu().numpy())\n",
    "\n",
    "        loss = F.binary_cross_entropy_with_logits(\n",
    "            input=pred,\n",
    "            target=target\n",
    "        )\n",
    "\n",
    "        if mode == 'train':\n",
    "            loss.backward()\n",
    "            optimizer.step()\n",
    "\n",
    "        epoch_loss.update(loss.detach().item(), out.shape[0])\n",
    "        \n",
    "        batch_acc = ((torch.sigmoid(out) > 0.5).int().flatten() == batch.y).float().mean()\n",
    "        epoch_acc.update(batch_acc, out.shape[0])\n",
    "\n",
    "    preds = np.concatenate(preds)\n",
    "    targets = np.concatenate(targets)\n",
    "\n",
    "    epoch_auc = roc_auc_score(y_true=targets, y_score=preds)\n",
    "\n",
    "    print(f'{mode} loss in the epoch: {epoch_loss.avg:.3f}, '\n",
    "          f'{mode} accuracy in the epoch: {epoch_acc.avg:.3f}, '\n",
    "          f'{mode} auc in the epoch: {epoch_auc:.3f}')"
   ]
  },
  {
   "cell_type": "markdown",
   "metadata": {
    "pycharm": {
     "name": "#%% md\n"
    }
   },
   "source": [
    "## classificatioon model here!"
   ]
  },
  {
   "cell_type": "code",
   "execution_count": 10,
   "metadata": {
    "pycharm": {
     "name": "#%%\n"
    }
   },
   "outputs": [
    {
     "name": "stdout",
     "output_type": "stream",
     "text": [
      "test loss in the epoch: 0.456, test accuracy in the epoch: 0.737, test auc in the epoch: 0.845\n"
     ]
    }
   ],
   "source": [
    "if args.pre_train != True or not os.path.exists('pre_train/mutag.pth'):\n",
    "    # Train MUTAG model\n",
    "    for epoch in range(args.num_epochs):\n",
    "        print(f'Epoch {epoch}')\n",
    "\n",
    "        # Train loop\n",
    "        run_epoch_graph_cls(\n",
    "            loader=mutag_train_loader,\n",
    "            model=mutag_model,\n",
    "            optimizer=mutag_optimizer,\n",
    "            device=device,\n",
    "            mode='train'\n",
    "        )\n",
    "\n",
    "        # Validation loop\n",
    "        run_epoch_graph_cls(\n",
    "            loader=mutag_valid_loader,\n",
    "            model=mutag_model,\n",
    "            optimizer=mutag_optimizer,\n",
    "            device=device,\n",
    "            mode='valid'\n",
    "        )\n",
    "\n",
    "    # save model\n",
    "    torch.save(mutag_model, 'pre_train/mutag.pth')\n",
    "else:\n",
    "    # load pre trained model\n",
    "    mutag_model = torch.load('pre_train/mutag.pth', map_location=device)\n",
    "    mutag_model.eval()    \n",
    "\n",
    "# Test loop\n",
    "run_epoch_graph_cls(\n",
    "    loader=mutag_test_loader,\n",
    "    model=mutag_model,\n",
    "    optimizer=mutag_optimizer,\n",
    "    device=device,\n",
    "    mode='test'\n",
    ")"
   ]
  },
  {
   "cell_type": "markdown",
   "metadata": {
    "pycharm": {
     "name": "#%% md\n"
    }
   },
   "source": [
    "# Explaination"
   ]
  },
  {
   "cell_type": "markdown",
   "metadata": {
    "pycharm": {
     "name": "#%% md\n"
    }
   },
   "source": [
    "## GNNExplaniner"
   ]
  },
  {
   "cell_type": "code",
   "execution_count": 11,
   "metadata": {
    "pycharm": {
     "name": "#%%\n"
    }
   },
   "outputs": [],
   "source": [
    "# Create GNNExplainer model for MUTAG\n",
    "mutag_explainer = GNNExplainer(mutag_model, epochs=2000, return_type='raw', log=False)"
   ]
  },
  {
   "cell_type": "markdown",
   "metadata": {
    "pycharm": {
     "name": "#%% md\n"
    }
   },
   "source": [
    "## visualization functions"
   ]
  },
  {
   "cell_type": "code",
   "execution_count": 12,
   "metadata": {
    "pycharm": {
     "name": "#%%\n"
    }
   },
   "outputs": [],
   "source": [
    "def visualize_subgraph_mutag(graph: nx.Graph,\n",
    "                             node_set: Optional[Set[int]] = None,\n",
    "                             edge_set: Optional[Set[int]] = None,\n",
    "                             title: Optional[str] = None) -> None:\n",
    "    \"\"\"Visualizes a subgraph explanation for a graph from the MUTAG dataset.\n",
    "\n",
    "    Note: Only provide subgraph_node_set or subgraph_edge_set, not both.\n",
    "\n",
    "    Adapted from https://github.com/divelab/DIG/blob/dig/dig/xgraph/method/subgraphx.py\n",
    "\n",
    "    :param graph: A NetworkX graph object representing the full graph.\n",
    "    :param node_set: A set of nodes that induces a subgraph.\n",
    "    :param edge_set: A set of edges that induces a subgraph.\n",
    "    :param title: Optional title for the plot.\n",
    "    \"\"\"\n",
    "    if node_set is None:\n",
    "        node_set = set(graph.nodes())\n",
    "\n",
    "    if edge_set is None:\n",
    "        edge_set = {(n_from, n_to) for (n_from, n_to) in graph.edges() if n_from in node_set and n_to in node_set}\n",
    "\n",
    "    # node_dict = {0: 'C', 1: 'N', 2: 'O', 3: 'F', 4: 'I', 5: 'Cl', 6: 'Br'}\n",
    "    node_idxs = {node: node_x.index(1.0) for node, node_x in graph.nodes(data='x')}\n",
    "    # node_labels = {k: node_dict[v] for k, v in node_idxs.items()}\n",
    "    node_color = ['#E49D1C', '#4970C6', '#FF5357', '#29A329', 'brown', 'darkslategray', '#F0EA00']\n",
    "    colors = [node_color[v % len(node_color)] for k, v in node_idxs.items()]\n",
    "\n",
    "    pos = nx.kamada_kawai_layout(graph)\n",
    "\n",
    "    nx.draw_networkx_nodes(G=graph, pos=pos, nodelist=list(graph.nodes()), node_color=colors, node_size=300)\n",
    "    nx.draw_networkx_edges(G=graph, pos=pos, width=3, edge_color='gray', arrows=False)\n",
    "    nx.draw_networkx_edges(G=graph, pos=pos, edgelist=list(edge_set), width=6, edge_color='black', arrows=False)\n",
    "    # nx.draw_networkx_labels(G=graph, pos=pos, labels=node_labels)\n",
    "    nx.draw_networkx_labels(G=graph, pos=pos)\n",
    "\n",
    "    if title is not None:\n",
    "        plt.title(title)\n",
    "\n",
    "    plt.axis('off')\n",
    "    plt.show()\n",
    "    plt.close()"
   ]
  },
  {
   "cell_type": "code",
   "execution_count": 13,
   "metadata": {
    "pycharm": {
     "name": "#%%\n"
    }
   },
   "outputs": [],
   "source": [
    "def visualize_explanation_for_graph(threshold: float, graph_idx: int) -> None:\n",
    "    \"\"\"Visualizes the explanations of GNNExplainer for a graph given a mask threshold.\"\"\"\n",
    "    mutag_data = mutag_dataset.test_ds[graph_idx]\n",
    "\n",
    "    _, edge_mask = mutag_explainer.explain_graph(mutag_data.x.to(device), mutag_data.edge_index.to(device))\n",
    "\n",
    "    batch = torch.zeros(mutag_data.x.shape[0], dtype=int, device=device)\n",
    "    output = mutag_model(mutag_data.x.to(device), mutag_data.edge_index.to(device), batch)\n",
    "    pred = torch.sigmoid(output).item()\n",
    "\n",
    "    edge_set = {(edge[0].item(), edge[1].item()) for edge, mask in zip(mutag_data.edge_index.T, edge_mask) if mask > threshold}\n",
    "    graph = to_networkx(mutag_data, node_attrs=['x'], edge_attrs=['edge_attr'], to_undirected=True)\n",
    "\n",
    "    visualize_subgraph_mutag(\n",
    "        graph=graph,\n",
    "        edge_set=edge_set,\n",
    "        title=f'GNNExplainer on graph {graph_idx}: label = {mutag_data.y.item()}, pred = {pred:.2f}'\n",
    "    )"
   ]
  },
  {
   "cell_type": "markdown",
   "metadata": {
    "pycharm": {
     "name": "#%% md\n"
    }
   },
   "source": [
    "## Interactive GNNExplainer"
   ]
  },
  {
   "cell_type": "code",
   "execution_count": 14,
   "metadata": {
    "pycharm": {
     "name": "#%%\n"
    }
   },
   "outputs": [
    {
     "data": {
      "application/vnd.jupyter.widget-view+json": {
       "model_id": "74cd9884068c4baaa308998b142ffebc",
       "version_major": 2,
       "version_minor": 0
      },
      "text/plain": [
       "interactive(children=(FloatSlider(value=0.5, description='threshold', max=1.0, step=0.01), IntSlider(value=0, …"
      ]
     },
     "metadata": {},
     "output_type": "display_data"
    }
   ],
   "source": [
    "# Interactive exploration of GNNExplainer explanations on MUTAG\n",
    "@interact(threshold=widgets.FloatSlider(value=0.5, min=0.0, max=1.0, step=0.01), \n",
    "            graph_idx=widgets.IntSlider(value=0, min=0, max=18))\n",
    "def interactive_mutag_explanations(threshold: float, graph_idx: int) -> None:\n",
    "    visualize_explanation_for_graph(threshold, graph_idx)"
   ]
  },
  {
   "cell_type": "markdown",
   "metadata": {
    "pycharm": {
     "name": "#%% md\n"
    }
   },
   "source": [
    "## Genetic algorithm"
   ]
  },
  {
   "cell_type": "markdown",
   "metadata": {
    "pycharm": {
     "name": "#%% md\n"
    }
   },
   "source": [
    "![GA overview](data:image/png;base64,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)"
   ]
  },
  {
   "cell_type": "code",
   "execution_count": 15,
   "metadata": {
    "pycharm": {
     "name": "#%%\n"
    }
   },
   "outputs": [],
   "source": [
    "from deap import base\n",
    "from deap import creator\n",
    "from deap import tools\n"
   ]
  },
  {
   "cell_type": "code",
   "execution_count": 16,
   "metadata": {
    "pycharm": {
     "name": "#%%\n"
    }
   },
   "outputs": [],
   "source": [
    "from torch_geometric.utils import k_hop_subgraph, get_num_hops"
   ]
  },
  {
   "cell_type": "markdown",
   "metadata": {
    "pycharm": {
     "name": "#%% md\n"
    }
   },
   "source": [
    "## creator"
   ]
  },
  {
   "cell_type": "markdown",
   "metadata": {
    "pycharm": {
     "name": "#%% md\n"
    }
   },
   "source": [
    "### extract L-hop of arbitary network"
   ]
  },
  {
   "cell_type": "code",
   "execution_count": 17,
   "metadata": {
    "pycharm": {
     "name": "#%%\n"
    }
   },
   "outputs": [],
   "source": [
    "foo_sample = mutag_dataset.test_ds[0]"
   ]
  },
  {
   "cell_type": "code",
   "execution_count": 18,
   "metadata": {
    "pycharm": {
     "name": "#%%\n"
    }
   },
   "outputs": [],
   "source": [
    "model_hops = get_num_hops(mutag_model)"
   ]
  },
  {
   "cell_type": "code",
   "execution_count": 19,
   "metadata": {
    "pycharm": {
     "name": "#%%\n"
    }
   },
   "outputs": [],
   "source": [
    "# example\n",
    "# sub_nodes, edge_index, _, edge_mask = k_hop_subgraph(1, model_hops, foo_sample.edge_index, )"
   ]
  },
  {
   "cell_type": "code",
   "execution_count": 20,
   "metadata": {
    "pycharm": {
     "name": "#%%\n"
    }
   },
   "outputs": [],
   "source": [
    "def subgraph(node_idx, x, edge_index, num_hops):\n",
    "        subset, edge_index, _, edge_mask = k_hop_subgraph(node_idx, num_hops, edge_index)\n",
    "        x = x[subset]\n",
    "        return x, edge_index, subset, edge_mask"
   ]
  },
  {
   "cell_type": "code",
   "execution_count": 21,
   "metadata": {
    "pycharm": {
     "name": "#%%\n"
    }
   },
   "outputs": [],
   "source": [
    "# example\n",
    "# a,b,c,d = subgraph(1, foo_sample.x, foo_sample.edge_index, model_hops)"
   ]
  },
  {
   "cell_type": "markdown",
   "metadata": {
    "pycharm": {
     "name": "#%% md\n"
    }
   },
   "source": [
    "### extract subgraph from a vertex"
   ]
  },
  {
   "cell_type": "code",
   "execution_count": 22,
   "metadata": {
    "pycharm": {
     "name": "#%%\n"
    }
   },
   "outputs": [],
   "source": [
    "creator.create(\"FitnessMax\", base.Fitness, weights=(1.0,))\n",
    "creator.create(\"Individual\", tuple, fitness=creator.FitnessMax)"
   ]
  },
  {
   "cell_type": "code",
   "execution_count": 23,
   "metadata": {
    "pycharm": {
     "name": "#%%\n"
    }
   },
   "outputs": [],
   "source": [
    "toolbox = base.Toolbox()"
   ]
  },
  {
   "cell_type": "code",
   "execution_count": 24,
   "metadata": {
    "pycharm": {
     "name": "#%%\n"
    }
   },
   "outputs": [],
   "source": [
    "def generator(subgraph_fn: partial, node_sampling: partial):\n",
    "    _ , subset_edges, subset_nodes , _ =  subgraph_fn(node_sampling())\n",
    "    return subset_nodes, subset_edges"
   ]
  },
  {
   "cell_type": "code",
   "execution_count": 38,
   "metadata": {
    "pycharm": {
     "name": "#%%\n"
    }
   },
   "outputs": [],
   "source": [
    "def graph_build_zero_filling(X, edge_index, node_mask: torch.Tensor):\n",
    "    \"\"\" subgraph building through masking the unselected nodes with zero features \"\"\"\n",
    "    ret_X = X * node_mask.unsqueeze(1)\n",
    "    return ret_X, edge_index\n",
    "\n",
    "def graph_build_split(X, edge_index, node_mask: torch.Tensor):\n",
    "    \"\"\" subgraph building through spliting the selected nodes from the original graph \"\"\"\n",
    "    row, col = edge_index\n",
    "    edge_mask = (node_mask[row] == 1) & (node_mask[col] == 1)\n",
    "    ret_edge_index = edge_index[:, edge_mask]\n",
    "    return X, ret_edge_index\n",
    "\n",
    "def get_graph_build_func(build_method):\n",
    "    if build_method.lower() == 'zero_filling':\n",
    "        return graph_build_zero_filling\n",
    "    elif build_method.lower() == 'split':\n",
    "        return graph_build_split\n",
    "    else:\n",
    "        raise NotImplementedError\n",
    "\n",
    "def gnn_score(coalition: list, data: Data, value_func: Callable,\n",
    "              subgraph_building_method='zero_filling') -> torch.Tensor:\n",
    "    \"\"\" the value of subgraph with selected nodes \"\"\"\n",
    "    num_nodes = data.num_nodes\n",
    "    subgraph_build_func = get_graph_build_func(subgraph_building_method)\n",
    "    mask = torch.zeros(num_nodes).type(torch.float32).to(data.x.device)\n",
    "    mask[coalition] = 1.0\n",
    "    ret_x, ret_edge_index = subgraph_build_func(data.x, data.edge_index, mask)\n",
    "    mask_data = Data(x=ret_x, edge_index=ret_edge_index)\n",
    "    mask_data = Batch.from_data_list([mask_data])\n",
    "    score = value_func(mask_data)\n",
    "    # get the score of predicted class for graph or specific node idx\n",
    "    return score.item()\n",
    "\n",
    "def get_fitness_func(score_method, gnn_model, subgraph_building_method='zero_filling'):\n",
    "    \"\"\" Function factory to generate a method measure how quality of a individual\n",
    "    Args:\n",
    "        score_method: method to use\n",
    "        gnn_model:  a blackbox algorithm\n",
    "        subgraph_building_method: way to construct a suggraph\n",
    "    \"\"\"\n",
    "    if score_method.lower() == 'gnn_score':\n",
    "        return partial(gnn_score,\n",
    "                       value_func=gnn_model,\n",
    "                       subgraph_building_method=subgraph_building_method)\n",
    "    else:\n",
    "        raise NotImplementedError\n",
    "\n",
    "def wrap_value_func(data):\n",
    "    out = mutag_model(x=data.x.to(device), edge_index=data.edge_index.to(device), batch=None)\n",
    "    prod = torch.sigmoid(out)\n",
    "    return prod\n",
    "\n",
    "def evalSubGraph(individual, origin_graph):\n",
    "    nodes = individual[0][0].detach().tolist()\n",
    "    # edges = individual[0][1]\n",
    "    fitness_func = get_fitness_func('gnn_score', wrap_value_func)\n",
    "    fitness_value = fitness_func(coalition=nodes, data=origin_graph)\n",
    "    return fitness_value + (1 - len(nodes)/origin_graph.num_nodes), fitness_value\n"
   ]
  },
  {
   "cell_type": "code",
   "execution_count": 26,
   "metadata": {
    "pycharm": {
     "name": "#%%\n"
    }
   },
   "outputs": [],
   "source": [
    "# toolbox.register(\"attr_bool\", random.randint, 0, 1)\n",
    "# toolbox.register(\"individual\", tools.initRepeat, creator.Individual, \n",
    "#     toolbox.attr_bool, 100)\n",
    "# toolbox.register(\"population\", tools.initRepeat, list, toolbox.individual)\n",
    "\n",
    "\n",
    "# def evalOneMax(individual):\n",
    "#     return sum(individual),\n",
    "\n",
    "# toolbox.register(\"evaluate\", evalOneMax)\n",
    "# toolbox.register(\"mate\", tools.cxTwoPoint)\n",
    "# toolbox.register(\"mutate\", tools.mutFlipBit, indpb=0.05)\n",
    "# toolbox.register(\"select\", tools.selTournament, tournsize=3)"
   ]
  },
  {
   "cell_type": "code",
   "execution_count": 27,
   "metadata": {
    "pycharm": {
     "name": "#%%\n"
    }
   },
   "outputs": [],
   "source": [
    "toolbox.register(\"random_node\", random.randrange, 0, foo_sample.num_nodes)\n",
    "toolbox.register(\"subgraph\", subgraph, x=foo_sample.x , edge_index=foo_sample.edge_index, num_hops=model_hops)\n",
    "toolbox.register(\"generator\",  generator, toolbox.subgraph, toolbox.random_node)\n",
    "toolbox.register(\"individual\", tools.initRepeat, creator.Individual, toolbox.generator, 1)\n",
    "toolbox.register(\"population\", tools.initRepeat, list, toolbox.individual)"
   ]
  },
  {
   "cell_type": "code",
   "execution_count": 28,
   "metadata": {
    "pycharm": {
     "name": "#%%\n"
    }
   },
   "outputs": [],
   "source": [
    "pop = toolbox.population(n=3)"
   ]
  },
  {
   "cell_type": "code",
   "execution_count": 29,
   "metadata": {
    "pycharm": {
     "name": "#%%\n"
    }
   },
   "outputs": [],
   "source": [
    "bar = toolbox.individual()"
   ]
  },
  {
   "cell_type": "code",
   "execution_count": 39,
   "metadata": {
    "pycharm": {
     "name": "#%%\n"
    }
   },
   "outputs": [],
   "source": [
    "hop = evalSubGraph(bar, foo_sample)"
   ]
  },
  {
   "cell_type": "code",
   "execution_count": null,
   "metadata": {
    "pycharm": {
     "name": "#%%\n"
    }
   },
   "outputs": [],
   "source": [
    "batch = torch.zeros(foo_sample.x.shape[0], dtype=int, device=device)\n",
    "output = mutag_model(foo_sample.x.to(device), foo_sample.edge_index.to(device), batch)\n",
    "torch.sigmoid(output).item()"
   ]
  },
  {
   "cell_type": "code",
   "execution_count": 42,
   "metadata": {
    "pycharm": {
     "name": "#%%\n"
    }
   },
   "outputs": [
    {
     "data": {
      "text/plain": [
       "0.3681658208370209"
      ]
     },
     "execution_count": 42,
     "metadata": {},
     "output_type": "execute_result"
    }
   ],
   "source": [
    "# batch = torch.zeros(foo_sample.x.shape[0], dtype=int, device=device)\n",
    "output = mutag_model(foo_sample.x.to(device), foo_sample.edge_index.to(device), **{'batch': None})\n",
    "torch.sigmoid(output).item()"
   ]
  },
  {
   "cell_type": "code",
   "execution_count": 40,
   "metadata": {
    "pycharm": {
     "name": "#%%\n"
    }
   },
   "outputs": [
    {
     "data": {
      "text/plain": [
       "(0.5910948392222909, 0.2969771921634674)"
      ]
     },
     "execution_count": 40,
     "metadata": {},
     "output_type": "execute_result"
    }
   ],
   "source": [
    "hop"
   ]
  }
 ],
 "metadata": {
  "kernelspec": {
   "display_name": "Python 3.9.13 ('ga_subgraph')",
   "language": "python",
   "name": "python3"
  },
  "language_info": {
   "codemirror_mode": {
    "name": "ipython",
    "version": 3
   },
   "file_extension": ".py",
   "mimetype": "text/x-python",
   "name": "python",
   "nbconvert_exporter": "python",
   "pygments_lexer": "ipython3",
   "version": "3.9.12"
  },
  "orig_nbformat": 4,
  "vscode": {
   "interpreter": {
    "hash": "ffcbbd9b6f323d2d2a0d60c1ee37af36d4102b89e9c5f16911bd71b97bdbbb2d"
   }
  }
 },
 "nbformat": 4,
 "nbformat_minor": 2
}